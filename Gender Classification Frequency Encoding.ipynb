{
 "cells": [
  {
   "cell_type": "code",
   "execution_count": 109,
   "id": "78b6ab37",
   "metadata": {},
   "outputs": [],
   "source": [
    "import pandas as pd\n",
    "import numpy as np\n",
    "from sklearn import datasets\n",
    "from sklearn.model_selection import train_test_split\n",
    "from sklearn.metrics import accuracy_score,precision_score,recall_score,f1_score\n",
    "from sklearn.linear_model import LogisticRegression\n",
    "from sklearn.preprocessing import OneHotEncoder\n",
    "from sklearn.preprocessing import LabelEncoder\n",
    "from sklearn import svm\n",
    "from sklearn.tree import DecisionTreeClassifier\n",
    "from sklearn.naive_bayes import GaussianNB\n",
    "from bince_encoding import bince_encoding\n",
    "#from classification import classification\n",
    "from optimized_rules import classification\n",
    "from frequency_encoding import frequency_encoding"
   ]
  },
  {
   "cell_type": "code",
   "execution_count": 110,
   "id": "23a9bf23",
   "metadata": {},
   "outputs": [],
   "source": [
    "df=pd.read_csv('./data/gender_classification.csv')"
   ]
  },
  {
   "cell_type": "code",
   "execution_count": 111,
   "id": "61e04030",
   "metadata": {},
   "outputs": [
    {
     "data": {
      "text/html": [
       "<div>\n",
       "<style scoped>\n",
       "    .dataframe tbody tr th:only-of-type {\n",
       "        vertical-align: middle;\n",
       "    }\n",
       "\n",
       "    .dataframe tbody tr th {\n",
       "        vertical-align: top;\n",
       "    }\n",
       "\n",
       "    .dataframe thead th {\n",
       "        text-align: right;\n",
       "    }\n",
       "</style>\n",
       "<table border=\"1\" class=\"dataframe\">\n",
       "  <thead>\n",
       "    <tr style=\"text-align: right;\">\n",
       "      <th></th>\n",
       "      <th>long_hair</th>\n",
       "      <th>forehead_width_cm</th>\n",
       "      <th>forehead_height_cm</th>\n",
       "      <th>nose_wide</th>\n",
       "      <th>nose_long</th>\n",
       "      <th>lips_thin</th>\n",
       "      <th>distance_nose_to_lip_long</th>\n",
       "      <th>gender</th>\n",
       "    </tr>\n",
       "  </thead>\n",
       "  <tbody>\n",
       "    <tr>\n",
       "      <th>0</th>\n",
       "      <td>1</td>\n",
       "      <td>11.8</td>\n",
       "      <td>6.1</td>\n",
       "      <td>1</td>\n",
       "      <td>0</td>\n",
       "      <td>1</td>\n",
       "      <td>1</td>\n",
       "      <td>Male</td>\n",
       "    </tr>\n",
       "    <tr>\n",
       "      <th>1</th>\n",
       "      <td>0</td>\n",
       "      <td>14.0</td>\n",
       "      <td>5.4</td>\n",
       "      <td>0</td>\n",
       "      <td>0</td>\n",
       "      <td>1</td>\n",
       "      <td>0</td>\n",
       "      <td>Female</td>\n",
       "    </tr>\n",
       "    <tr>\n",
       "      <th>2</th>\n",
       "      <td>0</td>\n",
       "      <td>11.8</td>\n",
       "      <td>6.3</td>\n",
       "      <td>1</td>\n",
       "      <td>1</td>\n",
       "      <td>1</td>\n",
       "      <td>1</td>\n",
       "      <td>Male</td>\n",
       "    </tr>\n",
       "    <tr>\n",
       "      <th>3</th>\n",
       "      <td>0</td>\n",
       "      <td>14.4</td>\n",
       "      <td>6.1</td>\n",
       "      <td>0</td>\n",
       "      <td>1</td>\n",
       "      <td>1</td>\n",
       "      <td>1</td>\n",
       "      <td>Male</td>\n",
       "    </tr>\n",
       "    <tr>\n",
       "      <th>4</th>\n",
       "      <td>1</td>\n",
       "      <td>13.5</td>\n",
       "      <td>5.9</td>\n",
       "      <td>0</td>\n",
       "      <td>0</td>\n",
       "      <td>0</td>\n",
       "      <td>0</td>\n",
       "      <td>Female</td>\n",
       "    </tr>\n",
       "  </tbody>\n",
       "</table>\n",
       "</div>"
      ],
      "text/plain": [
       "   long_hair  forehead_width_cm  forehead_height_cm  nose_wide  nose_long  \\\n",
       "0          1               11.8                 6.1          1          0   \n",
       "1          0               14.0                 5.4          0          0   \n",
       "2          0               11.8                 6.3          1          1   \n",
       "3          0               14.4                 6.1          0          1   \n",
       "4          1               13.5                 5.9          0          0   \n",
       "\n",
       "   lips_thin  distance_nose_to_lip_long  gender  \n",
       "0          1                          1    Male  \n",
       "1          1                          0  Female  \n",
       "2          1                          1    Male  \n",
       "3          1                          1    Male  \n",
       "4          0                          0  Female  "
      ]
     },
     "execution_count": 111,
     "metadata": {},
     "output_type": "execute_result"
    }
   ],
   "source": [
    "df.head()"
   ]
  },
  {
   "cell_type": "code",
   "execution_count": 112,
   "id": "da30198d",
   "metadata": {},
   "outputs": [],
   "source": [
    "y=df['gender']\n",
    "y=LabelEncoder().fit_transform(y)\n",
    "df.drop(['gender'],axis=1,inplace=True)\n",
    "X=df\n",
    "df['nose_wide'] = df['nose_wide'].map({0: 'A', 1: 'B'})\n",
    "df['long_hair'] = df['long_hair'].map({0: 'A', 1: 'B'})\n",
    "df['nose_long'] = df['nose_long'].map({0: 'A', 1: 'B'})\n",
    "df['lips_thin'] = df['lips_thin'].map({0: 'A', 1: 'B'})\n",
    "df['distance_nose_to_lip_long'] = df['distance_nose_to_lip_long'].map({0: 'A', 1: 'B'})\n",
    "\n",
    "# X.drop(['Pregnancies','SkinThickness','BMI'],axis=1,inplace=True)"
   ]
  },
  {
   "cell_type": "code",
   "execution_count": 113,
   "id": "32d7a13d",
   "metadata": {},
   "outputs": [],
   "source": [
    "dict_x=X.to_dict()"
   ]
  },
  {
   "cell_type": "code",
   "execution_count": 114,
   "id": "c50d92a3",
   "metadata": {},
   "outputs": [],
   "source": [
    "data=frequency_encoding(dict_x)"
   ]
  },
  {
   "cell_type": "code",
   "execution_count": 115,
   "id": "3139acc2",
   "metadata": {},
   "outputs": [],
   "source": [
    "X=pd.DataFrame(data)"
   ]
  },
  {
   "cell_type": "code",
   "execution_count": 116,
   "id": "9cd0822f",
   "metadata": {},
   "outputs": [],
   "source": [
    "X['nose_wide'] = LabelEncoder().fit_transform(X['nose_wide'])\n",
    "X['long_hair'] = X['long_hair'].map({'A': 0, 'B': 1})\n",
    "X['nose_long'] = X['nose_long'].map({'A': 0, 'B': 1})\n",
    "X['lips_thin'] = X['lips_thin'].map({'A': 0, 'B': 1})\n",
    "X['distance_nose_to_lip_long'] = X['distance_nose_to_lip_long'].map({'A': 0, 'B': 1})"
   ]
  },
  {
   "cell_type": "code",
   "execution_count": 117,
   "id": "8c518755",
   "metadata": {},
   "outputs": [],
   "source": [
    "X['encoded_string']=X.apply(lambda row: ''.join(map(str, row)), axis=1)"
   ]
  },
  {
   "cell_type": "code",
   "execution_count": 118,
   "id": "dfcaa7c8",
   "metadata": {},
   "outputs": [
    {
     "data": {
      "text/html": [
       "<div>\n",
       "<style scoped>\n",
       "    .dataframe tbody tr th:only-of-type {\n",
       "        vertical-align: middle;\n",
       "    }\n",
       "\n",
       "    .dataframe tbody tr th {\n",
       "        vertical-align: top;\n",
       "    }\n",
       "\n",
       "    .dataframe thead th {\n",
       "        text-align: right;\n",
       "    }\n",
       "</style>\n",
       "<table border=\"1\" class=\"dataframe\">\n",
       "  <thead>\n",
       "    <tr style=\"text-align: right;\">\n",
       "      <th></th>\n",
       "      <th>long_hair</th>\n",
       "      <th>forehead_width_cm</th>\n",
       "      <th>forehead_height_cm</th>\n",
       "      <th>nose_wide</th>\n",
       "      <th>nose_long</th>\n",
       "      <th>lips_thin</th>\n",
       "      <th>distance_nose_to_lip_long</th>\n",
       "      <th>encoded_string</th>\n",
       "    </tr>\n",
       "  </thead>\n",
       "  <tbody>\n",
       "    <tr>\n",
       "      <th>0</th>\n",
       "      <td>1</td>\n",
       "      <td>000</td>\n",
       "      <td>011</td>\n",
       "      <td>1</td>\n",
       "      <td>0</td>\n",
       "      <td>1</td>\n",
       "      <td>1</td>\n",
       "      <td>10000111011</td>\n",
       "    </tr>\n",
       "    <tr>\n",
       "      <th>1</th>\n",
       "      <td>0</td>\n",
       "      <td>111</td>\n",
       "      <td>000</td>\n",
       "      <td>0</td>\n",
       "      <td>0</td>\n",
       "      <td>1</td>\n",
       "      <td>0</td>\n",
       "      <td>01110000010</td>\n",
       "    </tr>\n",
       "    <tr>\n",
       "      <th>2</th>\n",
       "      <td>0</td>\n",
       "      <td>000</td>\n",
       "      <td>011</td>\n",
       "      <td>1</td>\n",
       "      <td>1</td>\n",
       "      <td>1</td>\n",
       "      <td>1</td>\n",
       "      <td>00000111111</td>\n",
       "    </tr>\n",
       "    <tr>\n",
       "      <th>3</th>\n",
       "      <td>0</td>\n",
       "      <td>111</td>\n",
       "      <td>011</td>\n",
       "      <td>0</td>\n",
       "      <td>1</td>\n",
       "      <td>1</td>\n",
       "      <td>1</td>\n",
       "      <td>01110110111</td>\n",
       "    </tr>\n",
       "    <tr>\n",
       "      <th>4</th>\n",
       "      <td>1</td>\n",
       "      <td>011</td>\n",
       "      <td>011</td>\n",
       "      <td>0</td>\n",
       "      <td>0</td>\n",
       "      <td>0</td>\n",
       "      <td>0</td>\n",
       "      <td>10110110000</td>\n",
       "    </tr>\n",
       "  </tbody>\n",
       "</table>\n",
       "</div>"
      ],
      "text/plain": [
       "   long_hair forehead_width_cm forehead_height_cm  nose_wide  nose_long  \\\n",
       "0          1               000                011          1          0   \n",
       "1          0               111                000          0          0   \n",
       "2          0               000                011          1          1   \n",
       "3          0               111                011          0          1   \n",
       "4          1               011                011          0          0   \n",
       "\n",
       "   lips_thin  distance_nose_to_lip_long encoded_string  \n",
       "0          1                          1    10000111011  \n",
       "1          1                          0    01110000010  \n",
       "2          1                          1    00000111111  \n",
       "3          1                          1    01110110111  \n",
       "4          0                          0    10110110000  "
      ]
     },
     "execution_count": 118,
     "metadata": {},
     "output_type": "execute_result"
    }
   ],
   "source": [
    "X.head()"
   ]
  },
  {
   "cell_type": "code",
   "execution_count": 119,
   "id": "6e3f30f6",
   "metadata": {},
   "outputs": [],
   "source": [
    "X_train,X_test,y_train,y_test=train_test_split(X,y,test_size=0.3,random_state=12)"
   ]
  },
  {
   "cell_type": "code",
   "execution_count": 120,
   "id": "80a292ba",
   "metadata": {},
   "outputs": [
    {
     "name": "stdout",
     "output_type": "stream",
     "text": [
      "      long_hair forehead_width_cm forehead_height_cm  nose_wide  nose_long  \\\n",
      "1081          1               000                011          1          1   \n",
      "3196          1               011                111          1          1   \n",
      "3365          0               011                111          0          1   \n",
      "3935          1               011                001          1          0   \n",
      "3375          0               000                011          0          0   \n",
      "...         ...               ...                ...        ...        ...   \n",
      "3916          1               011                000          0          0   \n",
      "1283          1               011                001          1          1   \n",
      "3714          1               000                000          0          1   \n",
      "3325          0               000                011          0          0   \n",
      "1414          1               011                011          1          0   \n",
      "\n",
      "      lips_thin  distance_nose_to_lip_long encoded_string  \n",
      "1081          1                          1    10000111111  \n",
      "3196          1                          1    10111111111  \n",
      "3365          0                          0    00111110100  \n",
      "3935          0                          0    10110011000  \n",
      "3375          0                          0    00000110000  \n",
      "...         ...                        ...            ...  \n",
      "3916          0                          0    10110000000  \n",
      "1283          1                          1    10110011111  \n",
      "3714          0                          0    10000000100  \n",
      "3325          0                          0    00000110000  \n",
      "1414          1                          1    10110111011  \n",
      "\n",
      "[3500 rows x 8 columns]\n"
     ]
    }
   ],
   "source": [
    "print(X_train)"
   ]
  },
  {
   "cell_type": "code",
   "execution_count": 121,
   "id": "3d1e87f1",
   "metadata": {},
   "outputs": [],
   "source": [
    "X_train=X_train.to_dict()"
   ]
  },
  {
   "cell_type": "code",
   "execution_count": 122,
   "id": "5cd13437",
   "metadata": {
    "scrolled": false
   },
   "outputs": [],
   "source": [
    "training_data={}\n",
    "count=0\n",
    "for i,(key,value) in enumerate(X_train['encoded_string'].items()):\n",
    "    if value in training_data:\n",
    "        if training_data[value]!=y_train[i]:\n",
    "#             print(\"Encoding is not good\")\n",
    "#             print(value,training_data[value])\n",
    "            count+=1\n",
    "    training_data[value]=y_train[i]\n",
    "# print(count)"
   ]
  },
  {
   "cell_type": "code",
   "execution_count": 123,
   "id": "9afa89c3",
   "metadata": {},
   "outputs": [
    {
     "name": "stdout",
     "output_type": "stream",
     "text": [
      "391\n"
     ]
    }
   ],
   "source": [
    "print(len(training_data))"
   ]
  },
  {
   "cell_type": "code",
   "execution_count": 124,
   "id": "e01e6477",
   "metadata": {
    "scrolled": true
   },
   "outputs": [],
   "source": [
    "testing_data={}\n",
    "for i,(key,value) in enumerate(X_test['encoded_string'].items()):\n",
    "    testing_data[value]=y_test[i]"
   ]
  },
  {
   "cell_type": "code",
   "execution_count": 125,
   "id": "517046da",
   "metadata": {},
   "outputs": [
    {
     "name": "stdout",
     "output_type": "stream",
     "text": [
      "309\n"
     ]
    }
   ],
   "source": [
    "print(len(testing_data))"
   ]
  },
  {
   "cell_type": "code",
   "execution_count": 126,
   "id": "de2ebc35",
   "metadata": {
    "scrolled": true
   },
   "outputs": [
    {
     "name": "stdout",
     "output_type": "stream",
     "text": [
      "0.6440129449838188\n",
      "0.5080906148867314\n",
      "0.7766990291262136\n",
      "0.7443365695792881\n",
      "0.6310679611650486\n",
      "0.47572815533980584\n",
      "0.598705501618123\n",
      "0.7378640776699029\n",
      "0.5922330097087378\n",
      "0.6440129449838188\n",
      "0.6990291262135923\n",
      "0.7475728155339806\n",
      "0.5954692556634305\n",
      "0.6990291262135923\n",
      "0.7249190938511327\n",
      "0.6310679611650486\n",
      "0.6990291262135923\n",
      "0.5501618122977346\n",
      "0.540453074433657\n",
      "0.6084142394822006\n",
      "0.6634304207119741\n",
      "0.7152103559870551\n",
      "0.5889967637540453\n",
      "0.7184466019417476\n",
      "0.46601941747572817\n",
      "0.7928802588996764\n",
      "0.5016181229773463\n",
      "0.7119741100323624\n",
      "0.5922330097087378\n",
      "0.5469255663430421\n",
      "0.7087378640776699\n",
      "0.7475728155339806\n",
      "0.6601941747572816\n",
      "0.4854368932038835\n",
      "0.6407766990291263\n",
      "0.5210355987055016\n",
      "0.6343042071197411\n",
      "0.7152103559870551\n",
      "0.6440129449838188\n",
      "0.686084142394822\n",
      "0.4692556634304207\n",
      "0.7119741100323624\n",
      "0.6731391585760518\n",
      "0.5048543689320388\n",
      "0.6601941747572816\n",
      "0.6925566343042071\n",
      "0.5857605177993528\n",
      "0.6925566343042071\n",
      "0.56957928802589\n",
      "0.5760517799352751\n",
      "0.7216828478964401\n",
      "0.6181229773462783\n",
      "0.8284789644012945\n",
      "0.5307443365695793\n",
      "0.5469255663430421\n",
      "0.540453074433657\n",
      "0.6990291262135923\n",
      "0.6084142394822006\n",
      "0.7216828478964401\n",
      "0.656957928802589\n",
      "0.7022653721682848\n",
      "0.5533980582524272\n",
      "0.5760517799352751\n",
      "0.7249190938511327\n",
      "0.6472491909385113\n",
      "0.7119741100323624\n",
      "0.3300970873786408\n",
      "0.5210355987055016\n",
      "0.6213592233009708\n",
      "0.6084142394822006\n",
      "0.7216828478964401\n",
      "0.6245954692556634\n",
      "0.5307443365695793\n",
      "0.7508090614886731\n",
      "0.6666666666666666\n",
      "0.656957928802589\n",
      "0.7119741100323624\n",
      "0.7216828478964401\n",
      "0.6828478964401294\n",
      "0.5857605177993528\n",
      "0.7411003236245954\n",
      "0.6440129449838188\n",
      "0.7411003236245954\n",
      "0.7508090614886731\n",
      "0.656957928802589\n",
      "0.6699029126213593\n",
      "0.686084142394822\n",
      "0.5728155339805825\n",
      "0.6893203883495146\n",
      "0.6990291262135923\n",
      "0.4854368932038835\n",
      "0.5857605177993528\n",
      "0.8414239482200647\n",
      "0.7216828478964401\n",
      "0.47896440129449835\n",
      "0.6990291262135923\n",
      "0.7055016181229773\n",
      "0.7184466019417476\n",
      "0.7184466019417476\n",
      "0.8478964401294499\n",
      "[9, 23, 150, 89, 105, 105, 101, 15, 102, 154, 80]\n",
      "Execution time: 2.0185441970825195 seconds\n",
      "0.8478964401294499\n"
     ]
    }
   ],
   "source": [
    "import time\n",
    "start_time = time.time()\n",
    "accuracy=classification(training_data,testing_data,11)\n",
    "end_time = time.time()\n",
    "execution_time = end_time - start_time\n",
    "print(\"Execution time:\", execution_time, \"seconds\")\n",
    "print(accuracy)"
   ]
  },
  {
   "cell_type": "code",
   "execution_count": null,
   "id": "fb02c213",
   "metadata": {},
   "outputs": [],
   "source": []
  },
  {
   "cell_type": "code",
   "execution_count": null,
   "id": "1b7d76ae",
   "metadata": {},
   "outputs": [],
   "source": []
  }
 ],
 "metadata": {
  "kernelspec": {
   "display_name": "Python 3 (ipykernel)",
   "language": "python",
   "name": "python3"
  },
  "language_info": {
   "codemirror_mode": {
    "name": "ipython",
    "version": 3
   },
   "file_extension": ".py",
   "mimetype": "text/x-python",
   "name": "python",
   "nbconvert_exporter": "python",
   "pygments_lexer": "ipython3",
   "version": "3.10.9"
  }
 },
 "nbformat": 4,
 "nbformat_minor": 5
}
