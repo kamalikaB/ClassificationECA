{
 "cells": [
  {
   "cell_type": "code",
   "execution_count": 4,
   "id": "78b6ab37",
   "metadata": {},
   "outputs": [],
   "source": [
    "import pandas as pd\n",
    "import numpy as np\n",
    "from sklearn import datasets\n",
    "from sklearn.model_selection import train_test_split\n",
    "from sklearn.metrics import accuracy_score,precision_score,recall_score,f1_score\n",
    "from sklearn.linear_model import LogisticRegression\n",
    "from sklearn.preprocessing import OneHotEncoder\n",
    "from sklearn.preprocessing import LabelEncoder\n",
    "from sklearn import svm\n",
    "from sklearn.tree import DecisionTreeClassifier\n",
    "from sklearn.naive_bayes import GaussianNB\n",
    "from bince_encoding import bince_encoding\n",
    "from classification import classification\n",
    "from frequency_encoding import frequency_encoding"
   ]
  },
  {
   "cell_type": "code",
   "execution_count": 5,
   "id": "23a9bf23",
   "metadata": {},
   "outputs": [],
   "source": [
    "df=pd.read_csv('./data/predictive_maintenance.csv')"
   ]
  },
  {
   "cell_type": "code",
   "execution_count": 6,
   "id": "61e04030",
   "metadata": {},
   "outputs": [
    {
     "data": {
      "text/html": [
       "<div>\n",
       "<style scoped>\n",
       "    .dataframe tbody tr th:only-of-type {\n",
       "        vertical-align: middle;\n",
       "    }\n",
       "\n",
       "    .dataframe tbody tr th {\n",
       "        vertical-align: top;\n",
       "    }\n",
       "\n",
       "    .dataframe thead th {\n",
       "        text-align: right;\n",
       "    }\n",
       "</style>\n",
       "<table border=\"1\" class=\"dataframe\">\n",
       "  <thead>\n",
       "    <tr style=\"text-align: right;\">\n",
       "      <th></th>\n",
       "      <th>UDI</th>\n",
       "      <th>Product ID</th>\n",
       "      <th>Type</th>\n",
       "      <th>Air temperature [K]</th>\n",
       "      <th>Process temperature [K]</th>\n",
       "      <th>Rotational speed [rpm]</th>\n",
       "      <th>Torque [Nm]</th>\n",
       "      <th>Tool wear [min]</th>\n",
       "      <th>Target</th>\n",
       "      <th>Failure Type</th>\n",
       "    </tr>\n",
       "  </thead>\n",
       "  <tbody>\n",
       "    <tr>\n",
       "      <th>0</th>\n",
       "      <td>1</td>\n",
       "      <td>M14860</td>\n",
       "      <td>M</td>\n",
       "      <td>298.1</td>\n",
       "      <td>308.6</td>\n",
       "      <td>1551</td>\n",
       "      <td>42.8</td>\n",
       "      <td>0</td>\n",
       "      <td>0</td>\n",
       "      <td>No Failure</td>\n",
       "    </tr>\n",
       "    <tr>\n",
       "      <th>1</th>\n",
       "      <td>2</td>\n",
       "      <td>L47181</td>\n",
       "      <td>L</td>\n",
       "      <td>298.2</td>\n",
       "      <td>308.7</td>\n",
       "      <td>1408</td>\n",
       "      <td>46.3</td>\n",
       "      <td>3</td>\n",
       "      <td>0</td>\n",
       "      <td>No Failure</td>\n",
       "    </tr>\n",
       "    <tr>\n",
       "      <th>2</th>\n",
       "      <td>3</td>\n",
       "      <td>L47182</td>\n",
       "      <td>L</td>\n",
       "      <td>298.1</td>\n",
       "      <td>308.5</td>\n",
       "      <td>1498</td>\n",
       "      <td>49.4</td>\n",
       "      <td>5</td>\n",
       "      <td>0</td>\n",
       "      <td>No Failure</td>\n",
       "    </tr>\n",
       "    <tr>\n",
       "      <th>3</th>\n",
       "      <td>4</td>\n",
       "      <td>L47183</td>\n",
       "      <td>L</td>\n",
       "      <td>298.2</td>\n",
       "      <td>308.6</td>\n",
       "      <td>1433</td>\n",
       "      <td>39.5</td>\n",
       "      <td>7</td>\n",
       "      <td>0</td>\n",
       "      <td>No Failure</td>\n",
       "    </tr>\n",
       "    <tr>\n",
       "      <th>4</th>\n",
       "      <td>5</td>\n",
       "      <td>L47184</td>\n",
       "      <td>L</td>\n",
       "      <td>298.2</td>\n",
       "      <td>308.7</td>\n",
       "      <td>1408</td>\n",
       "      <td>40.0</td>\n",
       "      <td>9</td>\n",
       "      <td>0</td>\n",
       "      <td>No Failure</td>\n",
       "    </tr>\n",
       "  </tbody>\n",
       "</table>\n",
       "</div>"
      ],
      "text/plain": [
       "   UDI Product ID Type  Air temperature [K]  Process temperature [K]  \\\n",
       "0    1     M14860    M                298.1                    308.6   \n",
       "1    2     L47181    L                298.2                    308.7   \n",
       "2    3     L47182    L                298.1                    308.5   \n",
       "3    4     L47183    L                298.2                    308.6   \n",
       "4    5     L47184    L                298.2                    308.7   \n",
       "\n",
       "   Rotational speed [rpm]  Torque [Nm]  Tool wear [min]  Target Failure Type  \n",
       "0                    1551         42.8                0       0   No Failure  \n",
       "1                    1408         46.3                3       0   No Failure  \n",
       "2                    1498         49.4                5       0   No Failure  \n",
       "3                    1433         39.5                7       0   No Failure  \n",
       "4                    1408         40.0                9       0   No Failure  "
      ]
     },
     "execution_count": 6,
     "metadata": {},
     "output_type": "execute_result"
    }
   ],
   "source": [
    "df.head()"
   ]
  },
  {
   "cell_type": "code",
   "execution_count": 7,
   "id": "da30198d",
   "metadata": {},
   "outputs": [],
   "source": [
    "y=df['Target']\n",
    "df.drop(['Target'],axis=1,inplace=True)\n",
    "X=df\n",
    "X.drop(['UDI','Product ID','Type','Failure Type'],axis=1,inplace=True)"
   ]
  },
  {
   "cell_type": "code",
   "execution_count": 8,
   "id": "32d7a13d",
   "metadata": {},
   "outputs": [],
   "source": [
    "dict_x=X.to_dict()"
   ]
  },
  {
   "cell_type": "code",
   "execution_count": 9,
   "id": "c50d92a3",
   "metadata": {},
   "outputs": [],
   "source": [
    "data=frequency_encoding(dict_x)"
   ]
  },
  {
   "cell_type": "code",
   "execution_count": 10,
   "id": "3139acc2",
   "metadata": {},
   "outputs": [],
   "source": [
    "X=pd.DataFrame(data)\n",
    "y=LabelEncoder().fit_transform(y)"
   ]
  },
  {
   "cell_type": "code",
   "execution_count": 11,
   "id": "8c518755",
   "metadata": {},
   "outputs": [],
   "source": [
    "X['encoded_string']=X.apply(lambda row: ''.join(map(str, row)), axis=1)"
   ]
  },
  {
   "cell_type": "code",
   "execution_count": 12,
   "id": "dfcaa7c8",
   "metadata": {},
   "outputs": [
    {
     "data": {
      "text/html": [
       "<div>\n",
       "<style scoped>\n",
       "    .dataframe tbody tr th:only-of-type {\n",
       "        vertical-align: middle;\n",
       "    }\n",
       "\n",
       "    .dataframe tbody tr th {\n",
       "        vertical-align: top;\n",
       "    }\n",
       "\n",
       "    .dataframe thead th {\n",
       "        text-align: right;\n",
       "    }\n",
       "</style>\n",
       "<table border=\"1\" class=\"dataframe\">\n",
       "  <thead>\n",
       "    <tr style=\"text-align: right;\">\n",
       "      <th></th>\n",
       "      <th>Air temperature [K]</th>\n",
       "      <th>Process temperature [K]</th>\n",
       "      <th>Rotational speed [rpm]</th>\n",
       "      <th>Torque [Nm]</th>\n",
       "      <th>Tool wear [min]</th>\n",
       "      <th>encoded_string</th>\n",
       "    </tr>\n",
       "  </thead>\n",
       "  <tbody>\n",
       "    <tr>\n",
       "      <th>0</th>\n",
       "      <td>000</td>\n",
       "      <td>000</td>\n",
       "      <td>011</td>\n",
       "      <td>011</td>\n",
       "      <td>000</td>\n",
       "      <td>000000011011000</td>\n",
       "    </tr>\n",
       "    <tr>\n",
       "      <th>1</th>\n",
       "      <td>000</td>\n",
       "      <td>000</td>\n",
       "      <td>000</td>\n",
       "      <td>011</td>\n",
       "      <td>000</td>\n",
       "      <td>000000000011000</td>\n",
       "    </tr>\n",
       "    <tr>\n",
       "      <th>2</th>\n",
       "      <td>000</td>\n",
       "      <td>000</td>\n",
       "      <td>001</td>\n",
       "      <td>111</td>\n",
       "      <td>000</td>\n",
       "      <td>000000001111000</td>\n",
       "    </tr>\n",
       "    <tr>\n",
       "      <th>3</th>\n",
       "      <td>000</td>\n",
       "      <td>000</td>\n",
       "      <td>001</td>\n",
       "      <td>001</td>\n",
       "      <td>000</td>\n",
       "      <td>000000001001000</td>\n",
       "    </tr>\n",
       "    <tr>\n",
       "      <th>4</th>\n",
       "      <td>000</td>\n",
       "      <td>000</td>\n",
       "      <td>000</td>\n",
       "      <td>001</td>\n",
       "      <td>000</td>\n",
       "      <td>000000000001000</td>\n",
       "    </tr>\n",
       "  </tbody>\n",
       "</table>\n",
       "</div>"
      ],
      "text/plain": [
       "  Air temperature [K] Process temperature [K] Rotational speed [rpm]  \\\n",
       "0                 000                     000                    011   \n",
       "1                 000                     000                    000   \n",
       "2                 000                     000                    001   \n",
       "3                 000                     000                    001   \n",
       "4                 000                     000                    000   \n",
       "\n",
       "  Torque [Nm] Tool wear [min]   encoded_string  \n",
       "0         011             000  000000011011000  \n",
       "1         011             000  000000000011000  \n",
       "2         111             000  000000001111000  \n",
       "3         001             000  000000001001000  \n",
       "4         001             000  000000000001000  "
      ]
     },
     "execution_count": 12,
     "metadata": {},
     "output_type": "execute_result"
    }
   ],
   "source": [
    "X.head()"
   ]
  },
  {
   "cell_type": "code",
   "execution_count": 13,
   "id": "6e3f30f6",
   "metadata": {},
   "outputs": [],
   "source": [
    "X_train,X_test,y_train,y_test=train_test_split(X,y,test_size=0.3,random_state=12)"
   ]
  },
  {
   "cell_type": "code",
   "execution_count": 14,
   "id": "80a292ba",
   "metadata": {},
   "outputs": [
    {
     "name": "stdout",
     "output_type": "stream",
     "text": [
      "     Air temperature [K] Process temperature [K] Rotational speed [rpm]  \\\n",
      "6097                 011                     011                    001   \n",
      "6704                 111                     011                    011   \n",
      "9844                 001                     001                    001   \n",
      "9731                 001                     001                    000   \n",
      "6183                 011                     011                    001   \n",
      "...                  ...                     ...                    ...   \n",
      "3714                 111                     111                    111   \n",
      "7409                 001                     011                    111   \n",
      "3325                 111                     011                    011   \n",
      "9606                 001                     011                    000   \n",
      "5787                 111                     111                    011   \n",
      "\n",
      "     Torque [Nm] Tool wear [min]   encoded_string  \n",
      "6097         001             000  011011001001000  \n",
      "6704         001             001  111011011001001  \n",
      "9844         001             000  001001001001000  \n",
      "9731         111             011  001001000111011  \n",
      "6183         001             000  011011001001000  \n",
      "...          ...             ...              ...  \n",
      "3714         000             000  111111111000000  \n",
      "7409         000             111  001011111000111  \n",
      "3325         001             011  111011011001011  \n",
      "9606         011             001  001011000011001  \n",
      "5787         001             011  111111011001011  \n",
      "\n",
      "[7000 rows x 6 columns]\n"
     ]
    }
   ],
   "source": [
    "print(X_train)"
   ]
  },
  {
   "cell_type": "code",
   "execution_count": 15,
   "id": "3d1e87f1",
   "metadata": {},
   "outputs": [],
   "source": [
    "X_train=X_train.to_dict()"
   ]
  },
  {
   "cell_type": "code",
   "execution_count": 16,
   "id": "5cd13437",
   "metadata": {
    "scrolled": false
   },
   "outputs": [],
   "source": [
    "training_data={}\n",
    "count=0\n",
    "for i,(key,value) in enumerate(X_train['encoded_string'].items()):\n",
    "    if value in training_data:\n",
    "        if training_data[value]!=y_train[i]:\n",
    "#             print(\"Encoding is not good\")\n",
    "#             print(value,training_data[value])\n",
    "            count+=1\n",
    "    training_data[value]=y_train[i]\n",
    "# print(count)"
   ]
  },
  {
   "cell_type": "code",
   "execution_count": 17,
   "id": "9afa89c3",
   "metadata": {},
   "outputs": [
    {
     "name": "stdout",
     "output_type": "stream",
     "text": [
      "510\n"
     ]
    }
   ],
   "source": [
    "print(len(training_data))"
   ]
  },
  {
   "cell_type": "code",
   "execution_count": 18,
   "id": "e01e6477",
   "metadata": {
    "scrolled": true
   },
   "outputs": [],
   "source": [
    "testing_data={}\n",
    "for i,(key,value) in enumerate(X_test['encoded_string'].items()):\n",
    "    testing_data[value]=y_test[i]"
   ]
  },
  {
   "cell_type": "code",
   "execution_count": 19,
   "id": "517046da",
   "metadata": {},
   "outputs": [
    {
     "name": "stdout",
     "output_type": "stream",
     "text": [
      "444\n"
     ]
    }
   ],
   "source": [
    "print(len(testing_data))"
   ]
  },
  {
   "cell_type": "code",
   "execution_count": 20,
   "id": "de2ebc35",
   "metadata": {
    "scrolled": true
   },
   "outputs": [
    {
     "name": "stdout",
     "output_type": "stream",
     "text": [
      "0.9617117117117117\n",
      "Execution time: 0.43197083473205566 seconds\n"
     ]
    }
   ],
   "source": [
    "import time\n",
    "start_time = time.time()\n",
    "accuracy=classification(training_data,testing_data,15)\n",
    "end_time = time.time()\n",
    "execution_time = end_time - start_time\n",
    "print(\"Execution time:\", execution_time, \"seconds\")"
   ]
  },
  {
   "cell_type": "code",
   "execution_count": null,
   "id": "fb02c213",
   "metadata": {},
   "outputs": [],
   "source": []
  },
  {
   "cell_type": "code",
   "execution_count": null,
   "id": "1b7d76ae",
   "metadata": {},
   "outputs": [],
   "source": []
  }
 ],
 "metadata": {
  "kernelspec": {
   "display_name": "Python 3 (ipykernel)",
   "language": "python",
   "name": "python3"
  },
  "language_info": {
   "codemirror_mode": {
    "name": "ipython",
    "version": 3
   },
   "file_extension": ".py",
   "mimetype": "text/x-python",
   "name": "python",
   "nbconvert_exporter": "python",
   "pygments_lexer": "ipython3",
   "version": "3.10.9"
  }
 },
 "nbformat": 4,
 "nbformat_minor": 5
}
